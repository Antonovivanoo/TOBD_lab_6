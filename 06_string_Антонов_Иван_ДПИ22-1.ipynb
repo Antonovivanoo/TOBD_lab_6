{
 "cells": [
  {
   "cell_type": "markdown",
   "metadata": {},
   "source": [
    "# Работа со строковыми значениями"
   ]
  },
  {
   "cell_type": "markdown",
   "metadata": {},
   "source": [
    "__Автор задач: Блохин Н.В. (NVBlokhin@fa.ru)__\n",
    "\n",
    "Материалы:\n",
    "* Макрушин С.В. Лекция \"Работа со строковыми значениям\"\n",
    "* https://pyformat.info/\n",
    "* https://docs.python.org/3/library/re.html\n",
    "    * https://docs.python.org/3/library/re.html#flags\n",
    "    * https://docs.python.org/3/library/re.html#functions\n",
    "* https://pythonru.com/primery/primery-primeneniya-regulyarnyh-vyrazheniy-v-python\n",
    "* https://kanoki.org/2019/11/12/how-to-use-regex-in-pandas/\n",
    "* https://realpython.com/nltk-nlp-python/"
   ]
  },
  {
   "cell_type": "markdown",
   "metadata": {},
   "source": [
    "## Задачи для совместного разбора"
   ]
  },
  {
   "cell_type": "markdown",
   "metadata": {},
   "source": [
    "1. Вывести на экран данные из словаря `obj` построчно в виде `k = v`, задав формат таким образом, чтобы знак равенства оказался на одной и той же позиции во всех строках. Строковые литералы обернуть в кавычки."
   ]
  },
  {
   "cell_type": "code",
   "execution_count": 2,
   "metadata": {},
   "outputs": [
    {
     "name": "stdout",
     "output_type": "stream",
     "text": [
      "home_page  = 'https://github.com/pypa/sampleproject'\n",
      "keywords   = 'sample setuptools development'\n",
      "license    = 'MIT'\n"
     ]
    }
   ],
   "source": [
    "obj = {\n",
    "    \"home_page\": \"https://github.com/pypa/sampleproject\",\n",
    "    \"keywords\": \"sample setuptools development\",\n",
    "    \"license\": \"MIT\",\n",
    "}\n",
    "for key, value in obj.items():\n",
    "    print(f\"{key:10} = '{value}'\")\n"
   ]
  },
  {
   "cell_type": "markdown",
   "metadata": {},
   "source": [
    "2. Написать регулярное выражение,которое позволит найти номера групп студентов."
   ]
  },
  {
   "cell_type": "code",
   "execution_count": 5,
   "metadata": {},
   "outputs": [
    {
     "name": "stdout",
     "output_type": "stream",
     "text": [
      "19-1\n",
      "20-4\n",
      "20-3\n"
     ]
    }
   ],
   "source": [
    "import pandas as pd\n",
    "import re\n",
    "\n",
    "obj = pd.Series([\"Евгения гр.ПМ19-1\", \"Илья пм 20-4\", \"Анна 20-3\"])\n",
    "\n",
    "pattern = r\"\\d{2}-\\d\"\n",
    "\n",
    "for i in obj:\n",
    "    match = re.search(pattern, i)\n",
    "    if match:\n",
    "        print(match.group())"
   ]
  },
  {
   "cell_type": "markdown",
   "metadata": {},
   "source": [
    "3. Разбейте текст формулировки задачи 2 на слова."
   ]
  },
  {
   "cell_type": "code",
   "execution_count": 6,
   "metadata": {},
   "outputs": [
    {
     "name": "stdout",
     "output_type": "stream",
     "text": [
      "['Написать', 'регулярное', 'выражение,', 'которое', 'позволит', 'найти', 'номера', 'групп', 'студентов.']\n"
     ]
    }
   ],
   "source": [
    "text = \"Написать регулярное выражение, которое позволит найти номера групп студентов.\"\n",
    "words = text.split()\n",
    "print(words)"
   ]
  },
  {
   "cell_type": "markdown",
   "metadata": {},
   "source": [
    "## Лабораторная работа 6"
   ]
  },
  {
   "cell_type": "markdown",
   "metadata": {},
   "source": [
    "### Форматирование строк"
   ]
  },
  {
   "cell_type": "markdown",
   "metadata": {},
   "source": [
    "1\\. Загрузите данные из файла `recipes_sample.csv` (__ЛР2__) в виде `pd.DataFrame` `recipes` При помощи форматирования строк выведите информацию об id рецепта и времени выполнения 5 случайных рецептов в виде таблицы следующего вида:\n",
    "\n",
    "    \n",
    "    |      id      |  minutes  |\n",
    "    |--------------------------|\n",
    "    |    61178     |    65     |\n",
    "    |    202352    |    80     |\n",
    "    |    364322    |    150    |\n",
    "    |    26177     |    20     |\n",
    "    |    224785    |    35     |\n",
    "    \n",
    "Обратите внимание, что ширина столбцов заранее неизвестна и должна рассчитываться динамически, в зависимости от тех данных, которые были выбраны. "
   ]
  },
  {
   "cell_type": "code",
   "execution_count": 12,
   "metadata": {},
   "outputs": [
    {
     "name": "stdout",
     "output_type": "stream",
     "text": [
      "+--------+---------+\n",
      "|   id   | minutes |\n",
      "+--------+---------+\n",
      "| 40577  |    10   |\n",
      "| 246269 |    55   |\n",
      "| 36537  |    80   |\n",
      "| 310170 |   122   |\n",
      "|  383   |    20   |\n",
      "+--------+---------+\n"
     ]
    }
   ],
   "source": [
    "import pandas as pd\n",
    "from prettytable import PrettyTable\n",
    "\n",
    "recipes = pd.read_csv(\"recipes_sample.csv\")\n",
    "\n",
    "sample_recipes = recipes.sample(n=5)\n",
    "\n",
    "table = PrettyTable()\n",
    "table.field_names = [\"id\", \"minutes\"]\n",
    "\n",
    "for _, row in sample_recipes.iterrows():\n",
    "    table.add_row([row['id'], row['minutes']])\n",
    "\n",
    "print(table)\n"
   ]
  },
  {
   "cell_type": "markdown",
   "metadata": {},
   "source": [
    "2\\. Напишите функцию `show_info`, которая по данным о рецепте создает строку (в смысле объекта python) с описанием следующего вида:\n",
    "\n",
    "```\n",
    "\"Название Из Нескольких Слов\"\n",
    "\n",
    "1. Шаг 1\n",
    "2. Шаг 2\n",
    "----------\n",
    "Автор: contributor_id\n",
    "Среднее время приготовления: minutes минут\n",
    "```\n",
    "\n",
    "    \n",
    "Данные для создания строки получите из файлов `recipes_sample.csv` (__ЛР2__) и `steps_sample.xml` (__ЛР3__). \n",
    "Вызовите данную функцию для рецепта с id `170895` и выведите (через `print`) полученную строку на экран."
   ]
  },
  {
   "cell_type": "code",
   "execution_count": 17,
   "metadata": {},
   "outputs": [
    {
     "name": "stdout",
     "output_type": "stream",
     "text": [
      "\"Leeks And Parsnips  Sauteed Or Creamed\"\n",
      "\n",
      "1. Clean the leeks and discard the dark green portions\n",
      "2. Cut the leeks lengthwise then into one-inch pieces\n",
      "3. Melt the butter in a medium skillet , med\n",
      "4. Heat\n",
      "5. Add the garlic and fry 'til fragrant\n",
      "6. Add leeks and fry until the leeks are tender , about 6-minutes\n",
      "7. Meanwhile , peel and chunk the parsnips into one-inch pieces\n",
      "8. Place in a steaming basket and steam 'til they are as tender as you prefer\n",
      "9. I like them fork-tender\n",
      "10. Drain parsnips and add to the skillet with the leeks\n",
      "11. Add salt and pepper\n",
      "12. Gently sautee together for 5-minutes\n",
      "13. At this point you can serve it , or continue on and cream it:\n",
      "14. In a jar with a screw top , add the half-n-half and arrowroot\n",
      "15. Shake 'til blended\n",
      "16. Turn heat to low under the leeks and parsnips\n",
      "17. Pour in the arrowroot mixture , stirring gently as you pour\n",
      "18. If too thick , gradually add the water\n",
      "19. Let simmer for a couple of minutes\n",
      "20. Taste to adjust seasoning , probably an additional 1 / 2 teaspoon salt\n",
      "21. Serve warm\n",
      "----------\n",
      "Автор: 8377\n",
      "Среднее время приготовления: 27 минут\n",
      "\n"
     ]
    }
   ],
   "source": [
    "import pandas as pd\n",
    "import xml.dom.minidom as minidom\n",
    "\n",
    "df_recipes = pd.read_csv('recipes_sample.csv')\n",
    "\n",
    "dom = minidom.parse('steps_sample.xml')\n",
    "root = dom.documentElement\n",
    "\n",
    "steps_dict = {}\n",
    "recipes = root.getElementsByTagName('recipe')\n",
    "for recipe in recipes:\n",
    "    recipe_id = int(recipe.getElementsByTagName('id')[0].firstChild.data)\n",
    "    steps = [step.firstChild.data for step in recipe.getElementsByTagName('step')]\n",
    "    steps_dict[recipe_id] = steps\n",
    "\n",
    "def show_info(recipe_id):\n",
    "    row = df_recipes[df_recipes['id'] == recipe_id]\n",
    "    name = row['name'].iloc[0]\n",
    "    minutes = row['minutes'].iloc[0]\n",
    "    author_id = row['contributor_id'].iloc[0]\n",
    "    steps = steps_dict[recipe_id]\n",
    "\n",
    "    tot= f'\"{name.title()}\"\\n\\n'\n",
    "    for index, step in enumerate(steps):\n",
    "        tot += f'{index+1}. {step.capitalize()}\\n'\n",
    "    tot += '-' * 10 + '\\n'\n",
    "    tot += f'Автор: {author_id}\\n'\n",
    "    tot += f'Среднее время приготовления: {minutes} минут\\n'\n",
    "\n",
    "    return tot\n",
    "\n",
    "print(show_info(170895))"
   ]
  },
  {
   "cell_type": "markdown",
   "metadata": {},
   "source": [
    "## Работа с регулярными выражениями"
   ]
  },
  {
   "cell_type": "markdown",
   "metadata": {},
   "source": [
    "3\\. Напишите регулярное выражение, которое ищет следующий паттерн в строке: число (1 цифра или более), затем пробел, затем слова: hour или hours или minute или minutes. Произведите поиск по данному регулярному выражению в каждом шаге рецепта с id 25082. Выведите на экран все непустые результаты, найденные по данному шаблону."
   ]
  },
  {
   "cell_type": "code",
   "execution_count": 19,
   "metadata": {},
   "outputs": [
    {
     "name": "stdout",
     "output_type": "stream",
     "text": [
      "Шаг 6: 20 minutes\n",
      "Шаг 8: 10 minutes\n",
      "Шаг 10: 2 hours\n",
      "Шаг 14: 10 minutes\n",
      "Шаг 17: 20 minutes, 30 minutes\n"
     ]
    }
   ],
   "source": [
    "import re\n",
    "import xml.etree.ElementTree as ET\n",
    "\n",
    "tree = ET.parse('steps_sample.xml')\n",
    "root = tree.getroot()\n",
    "\n",
    "recipe_id = '25082'\n",
    "\n",
    "for recipe in root.findall(\".//recipe[id='\" + recipe_id + \"']\"):\n",
    "    steps = recipe.findall(\"steps/step\")\n",
    "    for i, step in enumerate(steps, 1):\n",
    "        step_text = step.text\n",
    "        matches = re.findall(r'\\d+\\s+(?:hour|minute)s?', step_text)\n",
    "        if matches:\n",
    "            time_info = ', '.join(matches)\n",
    "            print(f\"Шаг {i}: {time_info}\")"
   ]
  },
  {
   "cell_type": "markdown",
   "metadata": {},
   "source": [
    "4\\. Напишите регулярное выражение, которое ищет шаблон вида \"this..., but\" _в начале строки_ . Между словом \"this\" и частью \", but\" может находиться произвольное число букв, цифр, знаков подчеркивания и пробелов. Никаких других символов вместо многоточия быть не может. Пробел между запятой и словом \"but\" может присутствовать или отсутствовать.\n",
    "\n",
    "Используя строковые методы `pd.Series`, выясните, для каких рецептов данный шаблон содержится в тексте описания. Выведите на экран количество таких рецептов и 3 примера подходящих описаний (текст описания должен быть виден на экране полностью)."
   ]
  },
  {
   "cell_type": "code",
   "execution_count": 28,
   "metadata": {},
   "outputs": [
    {
     "name": "stdout",
     "output_type": "stream",
     "text": [
      "Количество подходящих описаний: 134\n",
      "4151     this cake is very rich, but delicious.  it is great for family gatherings (my family always begs me to make one).  i got the recipe from an older lady i worked with.\n",
      "2646                                                                                                 this is considered peasant soup, but i consider it queen in comfort food.\n",
      "21471                                                     this is a different, but super combo, the taste is fantastic, i am quite sure that you will love this recipe. enjoy!\n",
      "Name: description, dtype: object\n"
     ]
    }
   ],
   "source": [
    "import pandas as pd\n",
    "\n",
    "df = pd.read_csv('recipes_sample.csv')\n",
    "df['description'].fillna(' ', inplace=True)\n",
    "\n",
    "pt = '^this[\\w\\d\\s]+,[ ]?but'\n",
    "matches = df[df['description'].str.match(pt, na=False)]\n",
    "\n",
    "print('Количество подходящих описаний:', matches.shape[0])\n",
    "pd.set_option('max_colwidth', int(matches['description'].apply(len).max() + 10))\n",
    "print(matches['description'].sample(3))"
   ]
  },
  {
   "cell_type": "code",
   "execution_count": 30,
   "metadata": {},
   "outputs": [
    {
     "name": "stdout",
     "output_type": "stream",
     "text": [
      "Количество подходящих описаний: 134\n",
      "28159                                                                                                                                                                                                                                                                                                                                                                                                                                                                                                           this recipe is a little bit of work, but i think it's worth it for good food.  serve with cooked rice and chopped scallions for garnish.\\r\\n\n",
      "28090                                                                                                                                                                                                                                                                                                                                                                                                                                                                                                                                        this sounds so good, but have not tried it yet as i am the only tuna lover in my house.  let me know how it is!\n",
      "23309    this is an unusual tart which can be baked all year round using elderflower cordial, but it is best to use fresh elderflowers when available (in june and july). it is a variation of a cheese tart using only fresh or stale breadcrumbs. elderflowers have strong medicinal credentials and were used by witches in medieval england. traditionally, the flowers were infused into wine, cordials and vinegars and were also used in elderflower fritters, now reappearing on modern restaurant menus. as well as being an interesting pudding tart, this tart can be eaten outside set meal times with a glass of elderflower wine or champagne.\n",
      "Name: description, dtype: object\n"
     ]
    }
   ],
   "source": [
    "import pandas as pd\n",
    "\n",
    "df = pd.read_csv('recipes_sample.csv')\n",
    "df['description'].fillna(' ', inplace=True)\n",
    "\n",
    "ptrn = '^this[\\w\\d\\s]+,[ ]?but'\n",
    "matches = df[df['description'].str.match(ptrn, na=False)]\n",
    "\n",
    "print('Количество подходящих описаний:', matches.shape[0])\n",
    "pd.set_option('max_colwidth', int(matches['description'].apply(len).max() + 10))\n",
    "print(matches['description'].sample(3))"
   ]
  },
  {
   "cell_type": "markdown",
   "metadata": {},
   "source": [
    "5\\. В текстах шагов рецептов обыкновенные дроби имеют вид \"a / b\". Используя регулярные выражения, уберите в тексте шагов рецепта с id 72367 пробелы до и после символа дроби. Выведите на экран шаги этого рецепта после их изменения."
   ]
  },
  {
   "cell_type": "code",
   "execution_count": 31,
   "metadata": {},
   "outputs": [
    {
     "name": "stdout",
     "output_type": "stream",
     "text": [
      "mix butter , flour , 1/3 c\n",
      "sugar and 1-1/4 t\n",
      "vanilla\n",
      "press into greased 9\" springform pan\n",
      "mix cream cheese , 1/4 c\n",
      "sugar , eggs and 1/2 t\n",
      "vanilla beating until fluffy\n",
      "pour over dough\n",
      "combine apples , 1/3 c\n",
      "sugar and cinnamon\n",
      "arrange on top of cream cheese mixture and sprinkle with almonds\n",
      "bake at 350 for 45-55 minutes , or until tester comes out clean\n"
     ]
    }
   ],
   "source": [
    "import pandas as pd\n",
    "import xml.etree.ElementTree as ET\n",
    "import re\n",
    "\n",
    "tree = ET.parse('steps_sample.xml')\n",
    "root = tree.getroot()\n",
    "\n",
    "recipe_id = '72367'\n",
    "recipe_steps = root.findall(\".//recipe[id='\" + recipe_id + \"']/steps/step\")\n",
    "\n",
    "for step in recipe_steps:\n",
    "    step_text = step.text\n",
    "    if step_text:\n",
    "        step_text = re.sub(r'\\s*/\\s*', '/', step_text)\n",
    "        step.text = step_text\n",
    "\n",
    "for step in recipe_steps:\n",
    "    print(step.text)"
   ]
  },
  {
   "cell_type": "markdown",
   "metadata": {},
   "source": [
    "### Сегментация текста"
   ]
  },
  {
   "cell_type": "markdown",
   "metadata": {},
   "source": [
    "6\\. Разбейте тексты шагов рецептов на слова при помощи пакета `nltk`. Посчитайте и выведите на экран кол-во уникальных слов среди всех рецептов. Словом называется любая последовательность алфавитных символов (для проверки можно воспользоваться `str.isalpha`). При подсчете количества уникальных слов не учитывайте регистр."
   ]
  },
  {
   "cell_type": "code",
   "execution_count": 34,
   "metadata": {},
   "outputs": [
    {
     "name": "stdout",
     "output_type": "stream",
     "text": [
      "Количество уникальных слов: 16109\n"
     ]
    }
   ],
   "source": [
    "import re\n",
    "\n",
    "recipe_steps = {}\n",
    "for recipe in ab.find_all('recipe'):\n",
    "    recipe_id = int(recipe.id.text)\n",
    "    steps = [step.text for step in recipe.find_all('step')]\n",
    "    recipe_steps[recipe_id] = steps\n",
    "\n",
    "# Объединение шагов в одну строку и приведение к нижнему регистру\n",
    "flat_steps = ' '.join(step.lower() for steps in recipe_steps.values() for step in steps)\n",
    "\n",
    "# Извлечение слов с использованием регулярного выражения\n",
    "word_list = re.findall(r'\\b\\w+\\b', flat_steps)\n",
    "\n",
    "# Создание множества уникальных слов\n",
    "unique_word_set = set(word_list)\n",
    "\n",
    "print(f\"Количество уникальных слов: {len(unique_word_set)}\")"
   ]
  },
  {
   "cell_type": "markdown",
   "metadata": {},
   "source": [
    "7\\. Разбейте описания рецептов из `recipes` на предложения при помощи пакета `nltk`. Найдите 5 самых длинных описаний (по количеству _предложений_) рецептов в датасете и выведите строки фрейма, соответствующие этим рецептами, в порядке убывания длины."
   ]
  },
  {
   "cell_type": "code",
   "execution_count": null,
   "metadata": {},
   "outputs": [],
   "source": [
    "import pandas as pd\n",
    "import nltk\n",
    "\n",
    "recipes = pd.read_csv('recipes_sample.csv')\n",
    "\n",
    "recipes['description'] = recipes['description'].fillna('')\n",
    "\n",
    "# Функция для подсчета количества предложений\n",
    "def count_sentences(text):\n",
    "    sentences = nltk.sent_tokenize(text)\n",
    "    return len(sentences)\n",
    "\n",
    "# Применяем функцию для подсчета количества предложений к столбцу 'description'\n",
    "recipes['num_sentences'] = recipes['description'].apply(count_sentences)\n",
    "\n",
    "# Сортируем DataFrame по количеству предложений в порядке убывания\n",
    "recipes_sorted = recipes.sort_values(by='num_sentences', ascending=False)\n",
    "\n",
    "# Выводим первые 5 описаний с наибольшим количеством предложений\n",
    "for desc in recipes_sorted.head(5)['description']:\n",
    "    print(desc)\n",
    "    print('-' * 80)"
   ]
  },
  {
   "cell_type": "markdown",
   "metadata": {},
   "source": [
    "8\\. Напишите функцию, которая для заданного предложения выводит информацию о частях речи слов, входящих в предложение, в следующем виде:\n",
    "```\n",
    "PRP   VBD   DT      NNS     CC   VBD      NNS        RB   \n",
    " I  omitted the raspberries and added strawberries instead\n",
    "``` \n",
    "Для определения части речи слова можно воспользоваться `nltk.pos_tag`.\n",
    "\n",
    "Проверьте работоспособность функции на названии рецепта с id 241106.\n",
    "\n",
    "Обратите внимание, что часть речи должна находиться ровно посередине над соотвествующим словом, а между самими словами должен быть ровно один пробел.\n"
   ]
  },
  {
   "cell_type": "code",
   "execution_count": null,
   "metadata": {},
   "outputs": [],
   "source": [
    "import nltk\n",
    "\n",
    "def print_pos_tags(sentence):\n",
    "    tokens = nltk.word_tokenize(sentence)\n",
    "    pos_tags = nltk.pos_tag(tokens)\n",
    "    for word, pos in pos_tags:\n",
    "        print(\"{0:^10} {1}\".format(pos, word))\n",
    "\n",
    "title = df.loc[df['id'] == 241106, 'name'].iloc[0]\n",
    "\n",
    "print_pos_tags(title)"
   ]
  }
 ],
 "metadata": {
  "kernelspec": {
   "display_name": "Python 3 (ipykernel)",
   "language": "python",
   "name": "python3"
  },
  "language_info": {
   "codemirror_mode": {
    "name": "ipython",
    "version": 3
   },
   "file_extension": ".py",
   "mimetype": "text/x-python",
   "name": "python",
   "nbconvert_exporter": "python",
   "pygments_lexer": "ipython3",
   "version": "3.10.0"
  }
 },
 "nbformat": 4,
 "nbformat_minor": 4
}
